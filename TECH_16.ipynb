{
  "nbformat": 4,
  "nbformat_minor": 0,
  "metadata": {
    "colab": {
      "provenance": [],
      "gpuType": "T4",
      "authorship_tag": "ABX9TyPc1dmgrLmk//eAWnGS4UoG",
      "include_colab_link": true
    },
    "kernelspec": {
      "name": "python3",
      "display_name": "Python 3"
    },
    "language_info": {
      "name": "python"
    }
  },
  "cells": [
    {
      "cell_type": "markdown",
      "metadata": {
        "id": "view-in-github",
        "colab_type": "text"
      },
      "source": [
        "<a href=\"https://colab.research.google.com/github/aevan101/stanfordnlp-GloVe/blob/master/TECH_16.ipynb\" target=\"_parent\"><img src=\"https://colab.research.google.com/assets/colab-badge.svg\" alt=\"Open In Colab\"/></a>"
      ]
    },
    {
      "cell_type": "code",
      "source": [],
      "metadata": {
        "id": "2S6KNpfp6NZN"
      },
      "execution_count": 4,
      "outputs": []
    },
    {
      "cell_type": "markdown",
      "source": [
        "### LLM Advantages"
      ],
      "metadata": {
        "id": "gJzi-b6t6Xlp"
      }
    },
    {
      "cell_type": "markdown",
      "source": [
        "2013 Word2Vec was landmark because it galvanized word embeddings\n",
        "\n",
        "* Before 2013 the way we represented words to computers was in bits, o's and 1's\n",
        "* The problem was that there was no relationship\n",
        "* The idea with word embeddings is that the context of words matters, e.g., \"coast\" and \"shore\"\n",
        "*\n",
        "\n"
      ],
      "metadata": {
        "id": "-ZwRwAa26aso"
      }
    },
    {
      "cell_type": "code",
      "source": [],
      "metadata": {
        "id": "0SShkx7x6WZP"
      },
      "execution_count": null,
      "outputs": []
    }
  ]
}